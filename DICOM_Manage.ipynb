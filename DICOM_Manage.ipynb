{
 "cells": [
  {
   "cell_type": "code",
   "execution_count": 1,
   "metadata": {
    "collapsed": true
   },
   "outputs": [],
   "source": [
    "%matplotlib inline\n",
    "import numpy as np # linear algebra\n",
    "import pandas as pd # data processing, CSV file I/O (e.g. pd.read_csv)\n",
    "import dicom as pdicom\n",
    "import os\n",
    "import scipy.ndimage\n",
    "import matplotlib.pyplot as plt\n",
    "import glob\n",
    "import cv2\n",
    "\n",
    "from skimage import measure, morphology\n",
    "from mpl_toolkits.mplot3d.art3d import Poly3DCollection\n"
   ]
  },
  {
   "cell_type": "code",
   "execution_count": 2,
   "metadata": {
    "collapsed": true
   },
   "outputs": [],
   "source": [
    "data_dir='DOI'\n",
    "patients = os.listdir(data_dir)\n",
    "patients.sort()"
   ]
  },
  {
   "cell_type": "code",
   "execution_count": 3,
   "metadata": {
    "collapsed": true
   },
   "outputs": [],
   "source": [
    "labels_df= pd.read_csv('calc_case_description_test_set.csv',index_col=0)"
   ]
  },
  {
   "cell_type": "code",
   "execution_count": 4,
   "metadata": {},
   "outputs": [
    {
     "data": {
      "text/html": [
       "<div>\n",
       "<style>\n",
       "    .dataframe thead tr:only-child th {\n",
       "        text-align: right;\n",
       "    }\n",
       "\n",
       "    .dataframe thead th {\n",
       "        text-align: left;\n",
       "    }\n",
       "\n",
       "    .dataframe tbody tr th {\n",
       "        vertical-align: top;\n",
       "    }\n",
       "</style>\n",
       "<table border=\"1\" class=\"dataframe\">\n",
       "  <thead>\n",
       "    <tr style=\"text-align: right;\">\n",
       "      <th></th>\n",
       "      <th>breast density</th>\n",
       "      <th>left or right breast</th>\n",
       "      <th>image view</th>\n",
       "      <th>abnormality id</th>\n",
       "      <th>abnormality type</th>\n",
       "      <th>calc type</th>\n",
       "      <th>calc distribution</th>\n",
       "      <th>assessment</th>\n",
       "      <th>pathology</th>\n",
       "      <th>subtlety</th>\n",
       "      <th>image file path</th>\n",
       "      <th>cropped image file path</th>\n",
       "      <th>ROI mask file path</th>\n",
       "    </tr>\n",
       "    <tr>\n",
       "      <th>patient_id</th>\n",
       "      <th></th>\n",
       "      <th></th>\n",
       "      <th></th>\n",
       "      <th></th>\n",
       "      <th></th>\n",
       "      <th></th>\n",
       "      <th></th>\n",
       "      <th></th>\n",
       "      <th></th>\n",
       "      <th></th>\n",
       "      <th></th>\n",
       "      <th></th>\n",
       "      <th></th>\n",
       "    </tr>\n",
       "  </thead>\n",
       "  <tbody>\n",
       "    <tr>\n",
       "      <th>P_00038</th>\n",
       "      <td>2</td>\n",
       "      <td>LEFT</td>\n",
       "      <td>CC</td>\n",
       "      <td>1</td>\n",
       "      <td>calcification</td>\n",
       "      <td>PUNCTATE-PLEOMORPHIC</td>\n",
       "      <td>CLUSTERED</td>\n",
       "      <td>4</td>\n",
       "      <td>BENIGN</td>\n",
       "      <td>2</td>\n",
       "      <td>Calc-Test_P_00038_LEFT_CC/1.3.6.1.4.1.9590.100...</td>\n",
       "      <td>Calc-Test_P_00038_LEFT_CC_1/1.3.6.1.4.1.9590.1...</td>\n",
       "      <td>Calc-Test_P_00038_LEFT_CC_1/1.3.6.1.4.1.9590.1...</td>\n",
       "    </tr>\n",
       "    <tr>\n",
       "      <th>P_00038</th>\n",
       "      <td>2</td>\n",
       "      <td>LEFT</td>\n",
       "      <td>MLO</td>\n",
       "      <td>1</td>\n",
       "      <td>calcification</td>\n",
       "      <td>PUNCTATE-PLEOMORPHIC</td>\n",
       "      <td>CLUSTERED</td>\n",
       "      <td>4</td>\n",
       "      <td>BENIGN</td>\n",
       "      <td>2</td>\n",
       "      <td>Calc-Test_P_00038_LEFT_MLO/1.3.6.1.4.1.9590.10...</td>\n",
       "      <td>Calc-Test_P_00038_LEFT_MLO_1/1.3.6.1.4.1.9590....</td>\n",
       "      <td>Calc-Test_P_00038_LEFT_MLO_1/1.3.6.1.4.1.9590....</td>\n",
       "    </tr>\n",
       "    <tr>\n",
       "      <th>P_00038</th>\n",
       "      <td>2</td>\n",
       "      <td>RIGHT</td>\n",
       "      <td>CC</td>\n",
       "      <td>1</td>\n",
       "      <td>calcification</td>\n",
       "      <td>VASCULAR</td>\n",
       "      <td>NaN</td>\n",
       "      <td>2</td>\n",
       "      <td>BENIGN_WITHOUT_CALLBACK</td>\n",
       "      <td>5</td>\n",
       "      <td>Calc-Test_P_00038_RIGHT_CC/1.3.6.1.4.1.9590.10...</td>\n",
       "      <td>Calc-Test_P_00038_RIGHT_CC_1/1.3.6.1.4.1.9590....</td>\n",
       "      <td>Calc-Test_P_00038_RIGHT_CC_1/1.3.6.1.4.1.9590....</td>\n",
       "    </tr>\n",
       "    <tr>\n",
       "      <th>P_00038</th>\n",
       "      <td>2</td>\n",
       "      <td>RIGHT</td>\n",
       "      <td>CC</td>\n",
       "      <td>2</td>\n",
       "      <td>calcification</td>\n",
       "      <td>VASCULAR</td>\n",
       "      <td>NaN</td>\n",
       "      <td>2</td>\n",
       "      <td>BENIGN_WITHOUT_CALLBACK</td>\n",
       "      <td>5</td>\n",
       "      <td>Calc-Test_P_00038_RIGHT_CC/1.3.6.1.4.1.9590.10...</td>\n",
       "      <td>Calc-Test_P_00038_RIGHT_CC_2/1.3.6.1.4.1.9590....</td>\n",
       "      <td>Calc-Test_P_00038_RIGHT_CC_2/1.3.6.1.4.1.9590....</td>\n",
       "    </tr>\n",
       "    <tr>\n",
       "      <th>P_00038</th>\n",
       "      <td>2</td>\n",
       "      <td>RIGHT</td>\n",
       "      <td>MLO</td>\n",
       "      <td>1</td>\n",
       "      <td>calcification</td>\n",
       "      <td>VASCULAR</td>\n",
       "      <td>NaN</td>\n",
       "      <td>2</td>\n",
       "      <td>BENIGN_WITHOUT_CALLBACK</td>\n",
       "      <td>5</td>\n",
       "      <td>Calc-Test_P_00038_RIGHT_MLO/1.3.6.1.4.1.9590.1...</td>\n",
       "      <td>Calc-Test_P_00038_RIGHT_MLO_1/1.3.6.1.4.1.9590...</td>\n",
       "      <td>Calc-Test_P_00038_RIGHT_MLO_1/1.3.6.1.4.1.9590...</td>\n",
       "    </tr>\n",
       "    <tr>\n",
       "      <th>P_00038</th>\n",
       "      <td>2</td>\n",
       "      <td>RIGHT</td>\n",
       "      <td>MLO</td>\n",
       "      <td>2</td>\n",
       "      <td>calcification</td>\n",
       "      <td>VASCULAR</td>\n",
       "      <td>NaN</td>\n",
       "      <td>2</td>\n",
       "      <td>BENIGN_WITHOUT_CALLBACK</td>\n",
       "      <td>5</td>\n",
       "      <td>Calc-Test_P_00038_RIGHT_MLO/1.3.6.1.4.1.9590.1...</td>\n",
       "      <td>Calc-Test_P_00038_RIGHT_MLO_2/1.3.6.1.4.1.9590...</td>\n",
       "      <td>Calc-Test_P_00038_RIGHT_MLO_2/1.3.6.1.4.1.9590...</td>\n",
       "    </tr>\n",
       "    <tr>\n",
       "      <th>P_00041</th>\n",
       "      <td>1</td>\n",
       "      <td>LEFT</td>\n",
       "      <td>CC</td>\n",
       "      <td>2</td>\n",
       "      <td>calcification</td>\n",
       "      <td>LUCENT_CENTER</td>\n",
       "      <td>NaN</td>\n",
       "      <td>2</td>\n",
       "      <td>BENIGN_WITHOUT_CALLBACK</td>\n",
       "      <td>5</td>\n",
       "      <td>Calc-Test_P_00041_LEFT_CC/1.3.6.1.4.1.9590.100...</td>\n",
       "      <td>Calc-Test_P_00041_LEFT_CC_2/1.3.6.1.4.1.9590.1...</td>\n",
       "      <td>Calc-Test_P_00041_LEFT_CC_2/1.3.6.1.4.1.9590.1...</td>\n",
       "    </tr>\n",
       "    <tr>\n",
       "      <th>P_00041</th>\n",
       "      <td>1</td>\n",
       "      <td>LEFT</td>\n",
       "      <td>MLO</td>\n",
       "      <td>2</td>\n",
       "      <td>calcification</td>\n",
       "      <td>LUCENT_CENTER</td>\n",
       "      <td>NaN</td>\n",
       "      <td>2</td>\n",
       "      <td>BENIGN_WITHOUT_CALLBACK</td>\n",
       "      <td>5</td>\n",
       "      <td>Calc-Test_P_00041_LEFT_MLO/1.3.6.1.4.1.9590.10...</td>\n",
       "      <td>Calc-Test_P_00041_LEFT_MLO_2/1.3.6.1.4.1.9590....</td>\n",
       "      <td>Calc-Test_P_00041_LEFT_MLO_2/1.3.6.1.4.1.9590....</td>\n",
       "    </tr>\n",
       "    <tr>\n",
       "      <th>P_00077</th>\n",
       "      <td>2</td>\n",
       "      <td>LEFT</td>\n",
       "      <td>CC</td>\n",
       "      <td>1</td>\n",
       "      <td>calcification</td>\n",
       "      <td>ROUND_AND_REGULAR</td>\n",
       "      <td>NaN</td>\n",
       "      <td>2</td>\n",
       "      <td>BENIGN_WITHOUT_CALLBACK</td>\n",
       "      <td>3</td>\n",
       "      <td>Calc-Test_P_00077_LEFT_CC/1.3.6.1.4.1.9590.100...</td>\n",
       "      <td>Calc-Test_P_00077_LEFT_CC_1/1.3.6.1.4.1.9590.1...</td>\n",
       "      <td>Calc-Test_P_00077_LEFT_CC_1/1.3.6.1.4.1.9590.1...</td>\n",
       "    </tr>\n",
       "    <tr>\n",
       "      <th>P_00077</th>\n",
       "      <td>2</td>\n",
       "      <td>LEFT</td>\n",
       "      <td>MLO</td>\n",
       "      <td>1</td>\n",
       "      <td>calcification</td>\n",
       "      <td>ROUND_AND_REGULAR</td>\n",
       "      <td>NaN</td>\n",
       "      <td>2</td>\n",
       "      <td>BENIGN_WITHOUT_CALLBACK</td>\n",
       "      <td>3</td>\n",
       "      <td>Calc-Test_P_00077_LEFT_MLO/1.3.6.1.4.1.9590.10...</td>\n",
       "      <td>Calc-Test_P_00077_LEFT_MLO_1/1.3.6.1.4.1.9590....</td>\n",
       "      <td>Calc-Test_P_00077_LEFT_MLO_1/1.3.6.1.4.1.9590....</td>\n",
       "    </tr>\n",
       "  </tbody>\n",
       "</table>\n",
       "</div>"
      ],
      "text/plain": [
       "            breast density left or right breast image view  abnormality id  \\\n",
       "patient_id                                                                   \n",
       "P_00038                  2                 LEFT         CC               1   \n",
       "P_00038                  2                 LEFT        MLO               1   \n",
       "P_00038                  2                RIGHT         CC               1   \n",
       "P_00038                  2                RIGHT         CC               2   \n",
       "P_00038                  2                RIGHT        MLO               1   \n",
       "P_00038                  2                RIGHT        MLO               2   \n",
       "P_00041                  1                 LEFT         CC               2   \n",
       "P_00041                  1                 LEFT        MLO               2   \n",
       "P_00077                  2                 LEFT         CC               1   \n",
       "P_00077                  2                 LEFT        MLO               1   \n",
       "\n",
       "           abnormality type             calc type calc distribution  \\\n",
       "patient_id                                                            \n",
       "P_00038       calcification  PUNCTATE-PLEOMORPHIC         CLUSTERED   \n",
       "P_00038       calcification  PUNCTATE-PLEOMORPHIC         CLUSTERED   \n",
       "P_00038       calcification              VASCULAR               NaN   \n",
       "P_00038       calcification              VASCULAR               NaN   \n",
       "P_00038       calcification              VASCULAR               NaN   \n",
       "P_00038       calcification              VASCULAR               NaN   \n",
       "P_00041       calcification         LUCENT_CENTER               NaN   \n",
       "P_00041       calcification         LUCENT_CENTER               NaN   \n",
       "P_00077       calcification     ROUND_AND_REGULAR               NaN   \n",
       "P_00077       calcification     ROUND_AND_REGULAR               NaN   \n",
       "\n",
       "            assessment                pathology  subtlety  \\\n",
       "patient_id                                                  \n",
       "P_00038              4                   BENIGN         2   \n",
       "P_00038              4                   BENIGN         2   \n",
       "P_00038              2  BENIGN_WITHOUT_CALLBACK         5   \n",
       "P_00038              2  BENIGN_WITHOUT_CALLBACK         5   \n",
       "P_00038              2  BENIGN_WITHOUT_CALLBACK         5   \n",
       "P_00038              2  BENIGN_WITHOUT_CALLBACK         5   \n",
       "P_00041              2  BENIGN_WITHOUT_CALLBACK         5   \n",
       "P_00041              2  BENIGN_WITHOUT_CALLBACK         5   \n",
       "P_00077              2  BENIGN_WITHOUT_CALLBACK         3   \n",
       "P_00077              2  BENIGN_WITHOUT_CALLBACK         3   \n",
       "\n",
       "                                              image file path  \\\n",
       "patient_id                                                      \n",
       "P_00038     Calc-Test_P_00038_LEFT_CC/1.3.6.1.4.1.9590.100...   \n",
       "P_00038     Calc-Test_P_00038_LEFT_MLO/1.3.6.1.4.1.9590.10...   \n",
       "P_00038     Calc-Test_P_00038_RIGHT_CC/1.3.6.1.4.1.9590.10...   \n",
       "P_00038     Calc-Test_P_00038_RIGHT_CC/1.3.6.1.4.1.9590.10...   \n",
       "P_00038     Calc-Test_P_00038_RIGHT_MLO/1.3.6.1.4.1.9590.1...   \n",
       "P_00038     Calc-Test_P_00038_RIGHT_MLO/1.3.6.1.4.1.9590.1...   \n",
       "P_00041     Calc-Test_P_00041_LEFT_CC/1.3.6.1.4.1.9590.100...   \n",
       "P_00041     Calc-Test_P_00041_LEFT_MLO/1.3.6.1.4.1.9590.10...   \n",
       "P_00077     Calc-Test_P_00077_LEFT_CC/1.3.6.1.4.1.9590.100...   \n",
       "P_00077     Calc-Test_P_00077_LEFT_MLO/1.3.6.1.4.1.9590.10...   \n",
       "\n",
       "                                      cropped image file path  \\\n",
       "patient_id                                                      \n",
       "P_00038     Calc-Test_P_00038_LEFT_CC_1/1.3.6.1.4.1.9590.1...   \n",
       "P_00038     Calc-Test_P_00038_LEFT_MLO_1/1.3.6.1.4.1.9590....   \n",
       "P_00038     Calc-Test_P_00038_RIGHT_CC_1/1.3.6.1.4.1.9590....   \n",
       "P_00038     Calc-Test_P_00038_RIGHT_CC_2/1.3.6.1.4.1.9590....   \n",
       "P_00038     Calc-Test_P_00038_RIGHT_MLO_1/1.3.6.1.4.1.9590...   \n",
       "P_00038     Calc-Test_P_00038_RIGHT_MLO_2/1.3.6.1.4.1.9590...   \n",
       "P_00041     Calc-Test_P_00041_LEFT_CC_2/1.3.6.1.4.1.9590.1...   \n",
       "P_00041     Calc-Test_P_00041_LEFT_MLO_2/1.3.6.1.4.1.9590....   \n",
       "P_00077     Calc-Test_P_00077_LEFT_CC_1/1.3.6.1.4.1.9590.1...   \n",
       "P_00077     Calc-Test_P_00077_LEFT_MLO_1/1.3.6.1.4.1.9590....   \n",
       "\n",
       "                                           ROI mask file path  \n",
       "patient_id                                                     \n",
       "P_00038     Calc-Test_P_00038_LEFT_CC_1/1.3.6.1.4.1.9590.1...  \n",
       "P_00038     Calc-Test_P_00038_LEFT_MLO_1/1.3.6.1.4.1.9590....  \n",
       "P_00038     Calc-Test_P_00038_RIGHT_CC_1/1.3.6.1.4.1.9590....  \n",
       "P_00038     Calc-Test_P_00038_RIGHT_CC_2/1.3.6.1.4.1.9590....  \n",
       "P_00038     Calc-Test_P_00038_RIGHT_MLO_1/1.3.6.1.4.1.9590...  \n",
       "P_00038     Calc-Test_P_00038_RIGHT_MLO_2/1.3.6.1.4.1.9590...  \n",
       "P_00041     Calc-Test_P_00041_LEFT_CC_2/1.3.6.1.4.1.9590.1...  \n",
       "P_00041     Calc-Test_P_00041_LEFT_MLO_2/1.3.6.1.4.1.9590....  \n",
       "P_00077     Calc-Test_P_00077_LEFT_CC_1/1.3.6.1.4.1.9590.1...  \n",
       "P_00077     Calc-Test_P_00077_LEFT_MLO_1/1.3.6.1.4.1.9590....  "
      ]
     },
     "execution_count": 4,
     "metadata": {},
     "output_type": "execute_result"
    }
   ],
   "source": [
    "labels_df.head(10)"
   ]
  },
  {
   "cell_type": "code",
   "execution_count": null,
   "metadata": {},
   "outputs": [
    {
     "name": "stdout",
     "output_type": "stream",
     "text": [
      "<class 'pandas.core.frame.DataFrame'>\n",
      "Index: 326 entries, P_00038 to P_02501\n",
      "Data columns (total 13 columns):\n",
      "breast density             326 non-null int64\n",
      "left or right breast       326 non-null object\n",
      "image view                 326 non-null object\n",
      "abnormality id             326 non-null int64\n",
      "abnormality type           326 non-null object\n",
      "calc type                  322 non-null object\n",
      "calc distribution          263 non-null object\n",
      "assessment                 326 non-null int64\n",
      "pathology                  326 non-null object\n",
      "subtlety                   326 non-null int64\n",
      "image file path            326 non-null object\n",
      "cropped image file path    326 non-null object\n",
      "ROI mask file path         326 non-null object\n",
      "dtypes: int64(4), object(9)\n",
      "memory usage: 35.7+ KB\n"
     ]
    }
   ],
   "source": [
    "labels_df.info()"
   ]
  },
  {
   "cell_type": "code",
   "execution_count": null,
   "metadata": {
    "collapsed": true
   },
   "outputs": [],
   "source": [
    "\n",
    "x=labels_df.groupby('patient_id')['ROI mask file path'].unique()[43]\n",
    "loc=data_dir+'/'+x[0]\n",
    "redf=pdicom.read_file(loc[:])\n",
    "\n",
    "# output=(int(input*255)/65535).astype(uint8)\n",
    "img=((redf.pixel_array/65535)*255).astype(np.uint8)\n",
    "\n",
    "#plt.imshow(img,cmap=plt.cm.bone)\n",
    "cv2.imshow('im1',img)\n",
    "cv2.imshow('im2',redf.pixel_array)\n",
    "cv2.waitKey(0)\n",
    "cv2.destroyAllWindows()\n",
    "cv2.waitKey(0)\n",
    "#plt.show()\n",
    "\n",
    "print(redf)\n",
    "#ConstPixelDims=(int(redf.Rows),int(redf.Columns),len(x))\n",
    "#ConstPixelSpacing=(float(redf.PixelSpacing[0]),float(redf.PixelSpacing[1]),\n",
    "              #     float(redf.SliceThickness))"
   ]
  },
  {
   "cell_type": "code",
   "execution_count": null,
   "metadata": {
    "collapsed": true
   },
   "outputs": [],
   "source": []
  },
  {
   "cell_type": "code",
   "execution_count": 4,
   "metadata": {},
   "outputs": [
    {
     "data": {
      "text/plain": [
       "array([ 'Calc-Test_P_00038_LEFT_CC_1/1.3.6.1.4.1.9590.100.1.2.161465562211359959230647609981488894942/1.3.6.1.4.1.9590.100.1.2.419081637812053404913157930753972718515/000001.dcm\\n',\n",
       "       'Calc-Test_P_00038_LEFT_MLO_1/1.3.6.1.4.1.9590.100.1.2.29112199613143138535387754440942211739/1.3.6.1.4.1.9590.100.1.2.188613955710170417803011787532523988680/000001.dcm\\n',\n",
       "       'Calc-Test_P_00038_RIGHT_CC_1/1.3.6.1.4.1.9590.100.1.2.200764632211227648028305709420627883105/1.3.6.1.4.1.9590.100.1.2.244876997513875090239564803900035037851/000001.dcm\\n',\n",
       "       'Calc-Test_P_00038_RIGHT_CC_2/1.3.6.1.4.1.9590.100.1.2.248538452013626298441249276382187367143/1.3.6.1.4.1.9590.100.1.2.360550081712464813321995483083632007570/000001.dcm\\n',\n",
       "       'Calc-Test_P_00038_RIGHT_MLO_1/1.3.6.1.4.1.9590.100.1.2.348569460311013218440657632223354965172/1.3.6.1.4.1.9590.100.1.2.126295284812046209819441424913058621714/000001.dcm\\n',\n",
       "       'Calc-Test_P_00038_RIGHT_MLO_2/1.3.6.1.4.1.9590.100.1.2.57362695012780927721008884783926968463/1.3.6.1.4.1.9590.100.1.2.326152312412979080929913875463824504551/000001.dcm\\n'], dtype=object)"
      ]
     },
     "execution_count": 4,
     "metadata": {},
     "output_type": "execute_result"
    }
   ],
   "source": [
    "x=labels_df.groupby('patient_id')['cropped image file path'].unique()[0]\n",
    "x"
   ]
  },
  {
   "cell_type": "code",
   "execution_count": 7,
   "metadata": {},
   "outputs": [
    {
     "name": "stdout",
     "output_type": "stream",
     "text": [
      "[  1.98860112e-01   3.44508502e+00   9.99420047e-01   2.97028344e+03\n",
      "   6.85315088e-01   9.84030278e+01   1.18776887e+04   5.55824358e+00\n",
      "   6.72595689e+00   1.42448462e-03   1.93620373e+00  -6.46145535e-01\n",
      "   9.99135421e-01]\n"
     ]
    },
    {
     "ename": "KeyboardInterrupt",
     "evalue": "",
     "output_type": "error",
     "traceback": [
      "\u001b[0;31m---------------------------------------------------------------------------\u001b[0m",
      "\u001b[0;31mKeyboardInterrupt\u001b[0m                         Traceback (most recent call last)",
      "\u001b[0;32m<ipython-input-7-dc9e7388f1ab>\u001b[0m in \u001b[0;36m<module>\u001b[0;34m()\u001b[0m\n\u001b[1;32m     10\u001b[0m \u001b[0mprint\u001b[0m\u001b[0;34m(\u001b[0m\u001b[0mmh\u001b[0m\u001b[0;34m.\u001b[0m\u001b[0mfeatures\u001b[0m\u001b[0;34m.\u001b[0m\u001b[0mharalick\u001b[0m\u001b[0;34m(\u001b[0m\u001b[0mimg\u001b[0m\u001b[0;34m)\u001b[0m\u001b[0;34m.\u001b[0m\u001b[0mmean\u001b[0m\u001b[0;34m(\u001b[0m\u001b[0;36m0\u001b[0m\u001b[0;34m)\u001b[0m\u001b[0;34m)\u001b[0m\u001b[0;34m\u001b[0m\u001b[0m\n\u001b[1;32m     11\u001b[0m \u001b[0mimg\u001b[0m\u001b[0;34m=\u001b[0m\u001b[0mredf\u001b[0m\u001b[0;34m.\u001b[0m\u001b[0mpixel_array\u001b[0m\u001b[0;34m\u001b[0m\u001b[0m\n\u001b[0;32m---> 12\u001b[0;31m \u001b[0mprint\u001b[0m\u001b[0;34m(\u001b[0m\u001b[0mmh\u001b[0m\u001b[0;34m.\u001b[0m\u001b[0mfeatures\u001b[0m\u001b[0;34m.\u001b[0m\u001b[0mharalick\u001b[0m\u001b[0;34m(\u001b[0m\u001b[0mimg\u001b[0m\u001b[0;34m)\u001b[0m\u001b[0;34m.\u001b[0m\u001b[0mmean\u001b[0m\u001b[0;34m(\u001b[0m\u001b[0;36m0\u001b[0m\u001b[0;34m)\u001b[0m\u001b[0;34m)\u001b[0m\u001b[0;34m\u001b[0m\u001b[0m\n\u001b[0m",
      "\u001b[0;32m~/anaconda3/lib/python3.6/site-packages/mahotas/features/texture.py\u001b[0m in \u001b[0;36mharalick\u001b[0;34m(f, ignore_zeros, preserve_haralick_bug, compute_14th_feature, return_mean, return_mean_ptp, use_x_minus_y_variance, distance)\u001b[0m\n\u001b[1;32m    145\u001b[0m                         \u001b[0mreturn_mean\u001b[0m\u001b[0;34m=\u001b[0m\u001b[0mreturn_mean\u001b[0m\u001b[0;34m,\u001b[0m\u001b[0;34m\u001b[0m\u001b[0m\n\u001b[1;32m    146\u001b[0m                         \u001b[0mreturn_mean_ptp\u001b[0m\u001b[0;34m=\u001b[0m\u001b[0mreturn_mean_ptp\u001b[0m\u001b[0;34m,\u001b[0m\u001b[0;34m\u001b[0m\u001b[0m\n\u001b[0;32m--> 147\u001b[0;31m                         \u001b[0muse_x_minus_y_variance\u001b[0m\u001b[0;34m=\u001b[0m\u001b[0muse_x_minus_y_variance\u001b[0m\u001b[0;34m,\u001b[0m\u001b[0;34m\u001b[0m\u001b[0m\n\u001b[0m\u001b[1;32m    148\u001b[0m                         )\n\u001b[1;32m    149\u001b[0m \u001b[0;34m\u001b[0m\u001b[0m\n",
      "\u001b[0;32m~/anaconda3/lib/python3.6/site-packages/mahotas/features/texture.py\u001b[0m in \u001b[0;36mharalick_features\u001b[0;34m(cmats, ignore_zeros, preserve_haralick_bug, compute_14th_feature, return_mean, return_mean_ptp, use_x_minus_y_variance)\u001b[0m\n\u001b[1;32m    244\u001b[0m         \u001b[0;32mraise\u001b[0m \u001b[0mValueError\u001b[0m\u001b[0;34m(\u001b[0m\u001b[0;34m\"mahotas.haralick_features: Cannot set both `return_mean` and `return_mean_ptp`\"\u001b[0m\u001b[0;34m)\u001b[0m\u001b[0;34m\u001b[0m\u001b[0m\n\u001b[1;32m    245\u001b[0m     \u001b[0mfeatures\u001b[0m \u001b[0;34m=\u001b[0m \u001b[0;34m[\u001b[0m\u001b[0;34m]\u001b[0m\u001b[0;34m\u001b[0m\u001b[0m\n\u001b[0;32m--> 246\u001b[0;31m     \u001b[0;32mfor\u001b[0m \u001b[0mcmat\u001b[0m \u001b[0;32min\u001b[0m \u001b[0mcmats\u001b[0m\u001b[0;34m:\u001b[0m\u001b[0;34m\u001b[0m\u001b[0m\n\u001b[0m\u001b[1;32m    247\u001b[0m         \u001b[0mfeats\u001b[0m \u001b[0;34m=\u001b[0m \u001b[0mnp\u001b[0m\u001b[0;34m.\u001b[0m\u001b[0mzeros\u001b[0m\u001b[0;34m(\u001b[0m\u001b[0;36m13\u001b[0m \u001b[0;34m+\u001b[0m \u001b[0mbool\u001b[0m\u001b[0;34m(\u001b[0m\u001b[0mcompute_14th_feature\u001b[0m\u001b[0;34m)\u001b[0m\u001b[0;34m,\u001b[0m \u001b[0mnp\u001b[0m\u001b[0;34m.\u001b[0m\u001b[0mdouble\u001b[0m\u001b[0;34m)\u001b[0m\u001b[0;34m\u001b[0m\u001b[0m\n\u001b[1;32m    248\u001b[0m         \u001b[0;32mif\u001b[0m \u001b[0mignore_zeros\u001b[0m\u001b[0;34m:\u001b[0m\u001b[0;34m\u001b[0m\u001b[0m\n",
      "\u001b[0;32m~/anaconda3/lib/python3.6/site-packages/mahotas/features/texture.py\u001b[0m in \u001b[0;36mall_cmatrices\u001b[0;34m()\u001b[0m\n\u001b[1;32m    137\u001b[0m     \u001b[0;32mdef\u001b[0m \u001b[0mall_cmatrices\u001b[0m\u001b[0;34m(\u001b[0m\u001b[0;34m)\u001b[0m\u001b[0;34m:\u001b[0m\u001b[0;34m\u001b[0m\u001b[0m\n\u001b[1;32m    138\u001b[0m         \u001b[0;32mfor\u001b[0m \u001b[0mdir\u001b[0m \u001b[0;32min\u001b[0m \u001b[0mrange\u001b[0m\u001b[0;34m(\u001b[0m\u001b[0mnr_dirs\u001b[0m\u001b[0;34m)\u001b[0m\u001b[0;34m:\u001b[0m\u001b[0;34m\u001b[0m\u001b[0m\n\u001b[0;32m--> 139\u001b[0;31m             \u001b[0mcooccurence\u001b[0m\u001b[0;34m(\u001b[0m\u001b[0mf\u001b[0m\u001b[0;34m,\u001b[0m \u001b[0mdir\u001b[0m\u001b[0;34m,\u001b[0m \u001b[0mcmat\u001b[0m\u001b[0;34m,\u001b[0m \u001b[0msymmetric\u001b[0m\u001b[0;34m=\u001b[0m\u001b[0;32mTrue\u001b[0m\u001b[0;34m,\u001b[0m \u001b[0mdistance\u001b[0m\u001b[0;34m=\u001b[0m\u001b[0mdistance\u001b[0m\u001b[0;34m)\u001b[0m\u001b[0;34m\u001b[0m\u001b[0m\n\u001b[0m\u001b[1;32m    140\u001b[0m             \u001b[0;32myield\u001b[0m \u001b[0mcmat\u001b[0m\u001b[0;34m\u001b[0m\u001b[0m\n\u001b[1;32m    141\u001b[0m     return haralick_features(all_cmatrices(),\n",
      "\u001b[0;32m~/anaconda3/lib/python3.6/site-packages/mahotas/features/texture.py\u001b[0m in \u001b[0;36mcooccurence\u001b[0;34m(f, direction, output, symmetric, distance)\u001b[0m\n\u001b[1;32m    450\u001b[0m         \u001b[0my\u001b[0m\u001b[0;34m,\u001b[0m \u001b[0mx\u001b[0m\u001b[0;34m,\u001b[0m \u001b[0mz\u001b[0m \u001b[0;34m=\u001b[0m \u001b[0mtuple\u001b[0m\u001b[0;34m(\u001b[0m\u001b[0mdistance\u001b[0m \u001b[0;34m*\u001b[0m \u001b[0mi\u001b[0m \u001b[0;32mfor\u001b[0m \u001b[0mi\u001b[0m \u001b[0;32min\u001b[0m \u001b[0m_3d_deltas\u001b[0m\u001b[0;34m[\u001b[0m\u001b[0mdirection\u001b[0m\u001b[0;34m]\u001b[0m\u001b[0;34m)\u001b[0m\u001b[0;34m\u001b[0m\u001b[0m\n\u001b[1;32m    451\u001b[0m         \u001b[0mBc\u001b[0m\u001b[0;34m[\u001b[0m\u001b[0my\u001b[0m \u001b[0;34m+\u001b[0m \u001b[0mdistance\u001b[0m\u001b[0;34m,\u001b[0m \u001b[0mx\u001b[0m \u001b[0;34m+\u001b[0m \u001b[0mdistance\u001b[0m\u001b[0;34m,\u001b[0m \u001b[0mz\u001b[0m \u001b[0;34m+\u001b[0m \u001b[0mdistance\u001b[0m\u001b[0;34m]\u001b[0m \u001b[0;34m=\u001b[0m \u001b[0;36m1\u001b[0m\u001b[0;34m\u001b[0m\u001b[0m\n\u001b[0;32m--> 452\u001b[0;31m     \u001b[0m_texture\u001b[0m\u001b[0;34m.\u001b[0m\u001b[0mcooccurence\u001b[0m\u001b[0;34m(\u001b[0m\u001b[0mf\u001b[0m\u001b[0;34m,\u001b[0m \u001b[0moutput\u001b[0m\u001b[0;34m,\u001b[0m \u001b[0mBc\u001b[0m\u001b[0;34m,\u001b[0m \u001b[0msymmetric\u001b[0m\u001b[0;34m)\u001b[0m\u001b[0;34m\u001b[0m\u001b[0m\n\u001b[0m\u001b[1;32m    453\u001b[0m     \u001b[0;32mreturn\u001b[0m \u001b[0moutput\u001b[0m\u001b[0;34m\u001b[0m\u001b[0m\n\u001b[1;32m    454\u001b[0m \u001b[0;34m\u001b[0m\u001b[0m\n",
      "\u001b[0;31mKeyboardInterrupt\u001b[0m: "
     ]
    }
   ],
   "source": [
    "#cropped images\n",
    "\n",
    "import mahotas as mh\n",
    "\n",
    "x=labels_df.groupby('patient_id')['image file path'].unique()[19]\n",
    "loc=data_dir+'/'+x[0]\n",
    "redf=pdicom.read_file(loc[:])\n",
    "img=((redf.pixel_array/65535)*255).astype(np.uint8)\n",
    "\n",
    "print(mh.features.haralick(img).mean(0))\n",
    "img=redf.pixel_array\n",
    "print(mh.features.haralick(img).mean(0))\n"
   ]
  },
  {
   "cell_type": "code",
<<<<<<< HEAD
   "execution_count": 30,
=======
   "execution_count": 5,
>>>>>>> e06decafc3091c2312774abd03f1934b5f26416c
   "metadata": {
    "scrolled": false
   },
   "outputs": [
    {
     "data": {
<<<<<<< HEAD
      "image/png": "iVBORw0KGgoAAAANSUhEUgAAAYAAAACeCAYAAAA7bN3gAAAABHNCSVQICAgIfAhkiAAAAAlwSFlz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\n4XA41iluAHA4HI51ihsAHA6HY53y/x5g2A1amFNpAAAAAElFTkSuQmCC\n",
      "text/plain": [
       "<matplotlib.figure.Figure at 0x1c3b11fcc0>"
=======
      "image/png": "iVBORw0KGgoAAAANSUhEUgAAAYAAAADJCAYAAAAq5+WvAAAABHNCSVQICAgIfAhkiAAAAAlwSFlz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\npxgGgAEDBgw4pxgGgAEDBgw4p/j/efBz4N+j3vIAAAAASUVORK5CYII=\n",
      "text/plain": [
       "<matplotlib.figure.Figure at 0x1c2414ce10>"
>>>>>>> e06decafc3091c2312774abd03f1934b5f26416c
      ]
     },
     "metadata": {},
     "output_type": "display_data"
    },
    {
     "name": "stdout",
     "output_type": "stream",
     "text": [
      "The cropped image's size is (361, 345) \n",
      "\n",
<<<<<<< HEAD
      "Size of original to resized image =  (5176, 3061) --> (1294, 765)\n",
      "[  2.47000000e-01   2.53850000e+01   9.97000000e-01   3.73942500e+03\n",
      "   6.60000000e-01   9.60960000e+01   1.49323160e+04   5.06200000e+00\n",
      "   6.46300000e+00   1.00000000e-03   2.24000000e+00  -5.79000000e-01\n",
      "   9.97000000e-01]\n"
=======
      "[  1.94465751e-03   6.53148526e+00   9.92370374e-01   4.28265684e+02\n",
      "   3.83046579e-01   3.99923144e+02   1.70653125e+03   7.23664611e+00\n",
      "   9.57740421e+00   7.81286219e-04   2.52536355e+00  -4.65817240e-01\n",
      "   9.98337217e-01]\n"
>>>>>>> e06decafc3091c2312774abd03f1934b5f26416c
     ]
    }
   ],
   "source": [
    "import mahotas as mh\n",
    "pat=7\n",
    "x=labels_df.groupby('patient_id')['image file path'].unique()[pat]\n",
    "y=labels_df.groupby('patient_id')['cropped image file path'].unique()[pat]\n",
    "z=labels_df.groupby('patient_id')['ROI mask file path'].unique()[pat]\n",
    "loc1=data_dir+'/'+x[0]\n",
    "loc2=data_dir+'/'+y[0]\n",
    "loc3=data_dir+'/'+z[0]\n",
    "i1=pdicom.read_file(loc1[:])\n",
    "i2=pdicom.read_file(loc2[:-1])\n",
    "i3=pdicom.read_file(loc3[:])\n",
    "#print(i1,'\\n')\n",
    "#print(i2,'\\n')\n",
    "#print(i3,'\\n')\n",
    "img1=i1.pixel_array\n",
    "img2=i2.pixel_array\n",
    "img3=i3.pixel_array\n",
    "\n",
<<<<<<< HEAD
    "plt.subplot(141).imshow(img1,cmap=plt.cm.bone)\n",
    "plt.subplot(142).imshow(img2,cmap=plt.cm.bone)\n",
    "plt.subplot(143).imshow(img3,cmap=plt.cm.bone)\n",
    "img4=cv2.resize(img1,None,fx=0.25, fy=.25)\n",
    "plt.subplot(144).imshow(img4,cmap=plt.cm.bone)\n",
    "plt.show()\n",
    "print('The cropped image\\'s size is',img3.shape,'\\n')\n",
    "print('Size of original to resized image = ',img1.shape,'-->',img4.shape)\n",
    "img1=((img4/65535)*255).astype(np.uint8)\n",
    "res=np.round(mh.features.haralick(img1).mean(0),3)\n",
    "print(res)"
=======
    "plt.subplot(131).imshow(img1,cmap=plt.cm.bone)\n",
    "plt.subplot(132).imshow(img2,cmap=plt.cm.bone)\n",
    "plt.subplot(133).imshow(img3,cmap=plt.cm.bone)\n",
    "plt.show()\n",
    "print('The cropped image\\'s size is',img3.shape,'\\n')\n",
    "img1=((img3/65535)*255).astype(np.uint8)\n",
    "print(mh.features.haralick(img1).mean(0))"
>>>>>>> e06decafc3091c2312774abd03f1934b5f26416c
   ]
  },
  {
   "cell_type": "code",
<<<<<<< HEAD
   "execution_count": 23,
   "metadata": {},
   "outputs": [
    {
     "data": {
      "text/plain": [
       "'[  2.47427627e-01   9.39696232e+00   9.98748162e-01   3.75460055e+03\\n   6.97435735e-01   9.62242458e+01   1.50090052e+04   5.05213933e+00\\n   6.23526174e+00   1.52376333e-03   1.96511715e+00  -6.29075092e-01\\n   9.98328112e-01] =>1/2\\n\\n[  2.46762020e-01   2.53850976e+01   9.96603323e-01   3.73942522e+03\\n   6.59817510e-01   9.60958337e+01   1.49323158e+04   5.06199936e+00\\n   6.46313755e+00   1.39633891e-03   2.23994539e+00  -5.79466160e-01\\n   9.97410027e-01] =>1/4 \\n'"
      ]
     },
     "execution_count": 23,
     "metadata": {},
     "output_type": "execute_result"
    }
   ],
   "source": [
    "'''[  2.47427627e-01   9.39696232e+00   9.98748162e-01   3.75460055e+03\n",
    "   6.97435735e-01   9.62242458e+01   1.50090052e+04   5.05213933e+00\n",
    "   6.23526174e+00   1.52376333e-03   1.96511715e+00  -6.29075092e-01\n",
    "   9.98328112e-01] =>1/2\n",
    "\n",
    "[  2.46762020e-01   2.53850976e+01   9.96603323e-01   3.73942522e+03\n",
    "   6.59817510e-01   9.60958337e+01   1.49323158e+04   5.06199936e+00\n",
    "   6.46313755e+00   1.39633891e-03   2.23994539e+00  -5.79466160e-01\n",
    "   9.97410027e-01] =>1/4 \n",
    "'''\n"
   ]
  },
  {
   "cell_type": "code",
   "execution_count": 5,
   "metadata": {},
   "outputs": [
    {
     "name": "stdout",
     "output_type": "stream",
     "text": [
      "[  4.74456585e-01   1.12935688e+01   9.96041390e-01   1.42661364e+03\n",
      "   7.83168783e-01   4.41903384e+01   5.69516099e+03   3.26647527e+00\n",
      "   4.15239647e+00   2.56533899e-03   1.63043593e+00  -5.87541862e-01\n",
      "   9.84053158e-01]\n",
      "[  2.77737464e-01   3.68473533e+01   9.92689436e-01   2.52304300e+03\n",
      "   6.66070127e-01   8.36997838e+01   1.00553246e+04   4.60672788e+00\n",
      "   5.99286795e+00   1.42436883e-03   2.21030515e+00  -5.46729901e-01\n",
      "   9.94460998e-01]\n",
      "[  3.02942396e-01   1.72007688e+01   9.97496352e-01   3.43734879e+03\n",
      "   6.82608524e-01   9.13840078e+01   1.37321944e+04   4.64629379e+00\n",
      "   5.95658632e+00   1.50863067e-03   2.13391835e+00  -5.77081824e-01\n",
      "   9.95990891e-01]\n",
      "[  3.09420329e-01   2.16540518e+01   9.98174474e-01   5.93249925e+03\n",
      "   7.03080769e-01   1.13033400e+02   2.37083429e+04   4.81137397e+00\n",
      "   6.05597118e+00   1.61251708e-03   2.07211269e+00  -6.10380509e-01\n",
      "   9.97528104e-01]\n",
      "[  2.85562884e-01   1.70731003e+01   9.97610137e-01   3.57390729e+03\n",
      "   6.85940241e-01   8.93163128e+01   1.42785561e+04   4.69626515e+00\n",
      "   5.99226670e+00   1.52784154e-03   2.12732121e+00  -5.81165332e-01\n",
      "   9.96272900e-01]\n",
      "[  1.97690621e-01   2.43348489e+01   9.98579460e-01   8.56676311e+03\n",
      "   6.40723592e-01   1.79007549e+02   3.42427176e+04   5.65232489e+00\n",
      "   7.14088390e+00   1.28085232e-03   2.34918261e+00  -6.00599379e-01\n",
      "   9.98896981e-01]\n",
      "[  4.56709057e-01   1.46333743e+01   9.96471468e-01   2.07761338e+03\n",
      "   7.76796070e-01   5.34879869e+01   8.29582014e+03   3.49623599e+00\n",
      "   4.41546085e+00   2.04944616e-03   1.68569738e+00  -5.99546115e-01\n",
      "   9.88481217e-01]\n"
     ]
    }
   ],
   "source": [
    "import mahotas as mh\n",
    "pat=7\n",
    "\n",
    "for i in range(pat):\n",
    "    x=labels_df.groupby('patient_id')['image file path'].unique()[i]\n",
    "    loc1=data_dir+'/'+x[0]\n",
    "    i1=pdicom.read_file(loc1[:])\n",
    "    img1=i1.pixel_array\n",
    "    img4=cv2.resize(img1,None,fx=0.25, fy=.25)\n",
    "    img1=((img4/65535)*255).astype(np.uint8)\n",
    "    print(mh.features.haralick(img1).mean(0))\n"
   ]
=======
   "execution_count": null,
   "metadata": {
    "collapsed": true
   },
   "outputs": [],
   "source": []
>>>>>>> e06decafc3091c2312774abd03f1934b5f26416c
  }
 ],
 "metadata": {
  "kernelspec": {
   "display_name": "Python 3",
   "language": "python",
   "name": "python3"
<<<<<<< HEAD
  },
  "language_info": {
   "codemirror_mode": {
    "name": "ipython",
    "version": 3
   },
   "file_extension": ".py",
   "mimetype": "text/x-python",
   "name": "python",
   "nbconvert_exporter": "python",
   "pygments_lexer": "ipython3",
   "version": "3.6.3"
=======
>>>>>>> e06decafc3091c2312774abd03f1934b5f26416c
  }
 },
 "nbformat": 4,
 "nbformat_minor": 2
}
